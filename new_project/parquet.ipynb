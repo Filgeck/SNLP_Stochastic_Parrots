{
 "cells": [
  {
   "cell_type": "code",
   "execution_count": 1,
   "metadata": {},
   "outputs": [
    {
     "name": "stderr",
     "output_type": "stream",
     "text": [
      "c:\\Users\\vladk\\miniconda3\\envs\\snlp\\Lib\\site-packages\\tqdm\\auto.py:21: TqdmWarning: IProgress not found. Please update jupyter and ipywidgets. See https://ipywidgets.readthedocs.io/en/stable/user_install.html\n",
      "  from .autonotebook import tqdm as notebook_tqdm\n"
     ]
    }
   ],
   "source": [
    "# pip install pandas, datasets, pylance\n",
    "\n",
    "import numpy as np\n",
    "import pandas as pd\n",
    "from datasets import load_dataset\n",
    "\n",
    "NUM_SAMPLES_BUFFER = 100000 # to not overload your disk\n",
    "NUM_SAMPLES = 10000\n",
    "\n",
    "# Login using e.g. `huggingface-cli login` to access this dataset\n",
    "# 37gb i dont have -vlad --> streaming mode = true\n",
    "raw_dataset = load_dataset(\"bigscience-data/roots_code_stackexchange\", split=\"train\", streaming=True)\n",
    "shuffled_dataset = raw_dataset.shuffle(buffer_size=NUM_SAMPLES_BUFFER)"
   ]
  },
  {
   "cell_type": "code",
   "execution_count": 2,
   "metadata": {},
   "outputs": [
    {
     "data": {
      "text/plain": [
       "{'text': Value(dtype='string', id=None),\n",
       " 'meta': Value(dtype='string', id=None)}"
      ]
     },
     "execution_count": 2,
     "metadata": {},
     "output_type": "execute_result"
    }
   ],
   "source": [
    "shuffled_dataset.features"
   ]
  },
  {
   "cell_type": "code",
   "execution_count": 24,
   "metadata": {},
   "outputs": [
    {
     "data": {
      "text/plain": [
       "0       Q:\\n\\nFFMPEG - Store FFPROBE's duration output...\n",
       "1       Q:\\n\\nAngular 6 Asp.Net (not Core) Web Api COR...\n",
       "2       Q:\\n\\nHow do I package extension functions in ...\n",
       "3       Q:\\n\\nHTML | CSS: Issues with hamburger menu\\n...\n",
       "4       Q:\\n\\nIterate data to Pandas dataframe (python...\n",
       "                              ...                        \n",
       "9995    Q:\\n\\nWhy for loop is not working in ionic ion...\n",
       "9996    Q:\\n\\nMAX DateTime value in JavaScript\\n\\nIn ....\n",
       "9997    Q:\\n\\ntest iterator value in struts 2\\n\\nI wan...\n",
       "9998    Q:\\n\\nHow to create a drop down in React?\\n\\nI...\n",
       "9999    Q:\\n\\nReplacing fill values in 2D array with v...\n",
       "Length: 10000, dtype: object"
      ]
     },
     "execution_count": 24,
     "metadata": {},
     "output_type": "execute_result"
    }
   ],
   "source": [
    "batch = next(iter(shuffled_dataset.batch(NUM_SAMPLES)))\n",
    "series = pd.Series(batch[\"text\"], dtype=str)\n",
    "series"
   ]
  },
  {
   "cell_type": "code",
   "execution_count": 9,
   "metadata": {},
   "outputs": [
    {
     "data": {
      "text/plain": [
       "0       Q:\\n\\nFFMPEG - Store FFPROBE's duration output...\n",
       "1       Q:\\n\\nAngular 6 Asp.Net (not Core) Web Api COR...\n",
       "2       Q:\\n\\nHow do I package extension functions in ...\n",
       "3       Q:\\n\\nHTML | CSS: Issues with hamburger menu\\n...\n",
       "4       Q:\\n\\nIterate data to Pandas dataframe (python...\n",
       "                              ...                        \n",
       "9995    Q:\\n\\nWhy for loop is not working in ionic ion...\n",
       "9996    Q:\\n\\nMAX DateTime value in JavaScript\\n\\nIn ....\n",
       "9997    Q:\\n\\ntest iterator value in struts 2\\n\\nI wan...\n",
       "9998    Q:\\n\\nHow to create a drop down in React?\\n\\nI...\n",
       "9999    Q:\\n\\nReplacing fill values in 2D array with v...\n",
       "Length: 10000, dtype: object"
      ]
     },
     "execution_count": 9,
     "metadata": {},
     "output_type": "execute_result"
    }
   ],
   "source": [
    "Q_SEG = \"Q:\\n\\n\"\n",
    "A_SEG = \"\\n\\nA:\\n\\n\"\n",
    "\n",
    "a = series[series.str.contains(Q_SEG)]\n",
    "b = a[a.str.contains(A_SEG)]\n",
    "b"
   ]
  },
  {
   "cell_type": "code",
   "execution_count": 23,
   "metadata": {},
   "outputs": [
    {
     "data": {
      "text/html": [
       "<div>\n",
       "<style scoped>\n",
       "    .dataframe tbody tr th:only-of-type {\n",
       "        vertical-align: middle;\n",
       "    }\n",
       "\n",
       "    .dataframe tbody tr th {\n",
       "        vertical-align: top;\n",
       "    }\n",
       "\n",
       "    .dataframe thead th {\n",
       "        text-align: right;\n",
       "    }\n",
       "</style>\n",
       "<table border=\"1\" class=\"dataframe\">\n",
       "  <thead>\n",
       "    <tr style=\"text-align: right;\">\n",
       "      <th></th>\n",
       "      <th>question</th>\n",
       "      <th>answer</th>\n",
       "      <th>full_text</th>\n",
       "    </tr>\n",
       "  </thead>\n",
       "  <tbody>\n",
       "    <tr>\n",
       "      <th>0</th>\n",
       "      <td>FFMPEG - Store FFPROBE's duration output as a ...</td>\n",
       "      <td>The command designed for processing output of ...</td>\n",
       "      <td>Q:\\n\\nFFMPEG - Store FFPROBE's duration output...</td>\n",
       "    </tr>\n",
       "    <tr>\n",
       "      <th>1</th>\n",
       "      <td>Angular 6 Asp.Net (not Core) Web Api CORS requ...</td>\n",
       "      <td>After struggling my head the whole morning and...</td>\n",
       "      <td>Q:\\n\\nAngular 6 Asp.Net (not Core) Web Api COR...</td>\n",
       "    </tr>\n",
       "    <tr>\n",
       "      <th>2</th>\n",
       "      <td>How do I package extension functions in a libr...</td>\n",
       "      <td>Silly mistake,  the extension functions are vi...</td>\n",
       "      <td>Q:\\n\\nHow do I package extension functions in ...</td>\n",
       "    </tr>\n",
       "    <tr>\n",
       "      <th>3</th>\n",
       "      <td>HTML | CSS: Issues with hamburger menu\\n\\nMy n...</td>\n",
       "      <td>Ok, I think I've found a solution to your prob...</td>\n",
       "      <td>Q:\\n\\nHTML | CSS: Issues with hamburger menu\\n...</td>\n",
       "    </tr>\n",
       "    <tr>\n",
       "      <th>4</th>\n",
       "      <td>Iterate data to Pandas dataframe (python)\\n\\nI...</td>\n",
       "      <td>Use:\\nimport requests, pandas, numpy, matplotl...</td>\n",
       "      <td>Q:\\n\\nIterate data to Pandas dataframe (python...</td>\n",
       "    </tr>\n",
       "    <tr>\n",
       "      <th>...</th>\n",
       "      <td>...</td>\n",
       "      <td>...</td>\n",
       "      <td>...</td>\n",
       "    </tr>\n",
       "    <tr>\n",
       "      <th>9995</th>\n",
       "      <td>Why for loop is not working in ionic ionViewWi...</td>\n",
       "      <td>ionViewWillEnter() gets for a less time and he...</td>\n",
       "      <td>Q:\\n\\nWhy for loop is not working in ionic ion...</td>\n",
       "    </tr>\n",
       "    <tr>\n",
       "      <th>9996</th>\n",
       "      <td>MAX DateTime value in JavaScript\\n\\nIn .NET, t...</td>\n",
       "      <td>You can use this to get the JS Date object:\\nn...</td>\n",
       "      <td>Q:\\n\\nMAX DateTime value in JavaScript\\n\\nIn ....</td>\n",
       "    </tr>\n",
       "    <tr>\n",
       "      <th>9997</th>\n",
       "      <td>test iterator value in struts 2\\n\\nI want to s...</td>\n",
       "      <td>Have you checked that it is not a simple typo?...</td>\n",
       "      <td>Q:\\n\\ntest iterator value in struts 2\\n\\nI wan...</td>\n",
       "    </tr>\n",
       "    <tr>\n",
       "      <th>9998</th>\n",
       "      <td>How to create a drop down in React?\\n\\nI am tr...</td>\n",
       "      <td>validateSalary(e){\\n       // e.persist();\\n  ...</td>\n",
       "      <td>Q:\\n\\nHow to create a drop down in React?\\n\\nI...</td>\n",
       "    </tr>\n",
       "    <tr>\n",
       "      <th>9999</th>\n",
       "      <td>Replacing fill values in 2D array with values ...</td>\n",
       "      <td>boolean indexing does the job nicely:\\nLocate ...</td>\n",
       "      <td>Q:\\n\\nReplacing fill values in 2D array with v...</td>\n",
       "    </tr>\n",
       "  </tbody>\n",
       "</table>\n",
       "<p>10000 rows × 3 columns</p>\n",
       "</div>"
      ],
      "text/plain": [
       "                                               question  \\\n",
       "0     FFMPEG - Store FFPROBE's duration output as a ...   \n",
       "1     Angular 6 Asp.Net (not Core) Web Api CORS requ...   \n",
       "2     How do I package extension functions in a libr...   \n",
       "3     HTML | CSS: Issues with hamburger menu\\n\\nMy n...   \n",
       "4     Iterate data to Pandas dataframe (python)\\n\\nI...   \n",
       "...                                                 ...   \n",
       "9995  Why for loop is not working in ionic ionViewWi...   \n",
       "9996  MAX DateTime value in JavaScript\\n\\nIn .NET, t...   \n",
       "9997  test iterator value in struts 2\\n\\nI want to s...   \n",
       "9998  How to create a drop down in React?\\n\\nI am tr...   \n",
       "9999  Replacing fill values in 2D array with values ...   \n",
       "\n",
       "                                                 answer  \\\n",
       "0     The command designed for processing output of ...   \n",
       "1     After struggling my head the whole morning and...   \n",
       "2     Silly mistake,  the extension functions are vi...   \n",
       "3     Ok, I think I've found a solution to your prob...   \n",
       "4     Use:\\nimport requests, pandas, numpy, matplotl...   \n",
       "...                                                 ...   \n",
       "9995  ionViewWillEnter() gets for a less time and he...   \n",
       "9996  You can use this to get the JS Date object:\\nn...   \n",
       "9997  Have you checked that it is not a simple typo?...   \n",
       "9998  validateSalary(e){\\n       // e.persist();\\n  ...   \n",
       "9999  boolean indexing does the job nicely:\\nLocate ...   \n",
       "\n",
       "                                              full_text  \n",
       "0     Q:\\n\\nFFMPEG - Store FFPROBE's duration output...  \n",
       "1     Q:\\n\\nAngular 6 Asp.Net (not Core) Web Api COR...  \n",
       "2     Q:\\n\\nHow do I package extension functions in ...  \n",
       "3     Q:\\n\\nHTML | CSS: Issues with hamburger menu\\n...  \n",
       "4     Q:\\n\\nIterate data to Pandas dataframe (python...  \n",
       "...                                                 ...  \n",
       "9995  Q:\\n\\nWhy for loop is not working in ionic ion...  \n",
       "9996  Q:\\n\\nMAX DateTime value in JavaScript\\n\\nIn ....  \n",
       "9997  Q:\\n\\ntest iterator value in struts 2\\n\\nI wan...  \n",
       "9998  Q:\\n\\nHow to create a drop down in React?\\n\\nI...  \n",
       "9999  Q:\\n\\nReplacing fill values in 2D array with v...  \n",
       "\n",
       "[10000 rows x 3 columns]"
      ]
     },
     "execution_count": 23,
     "metadata": {},
     "output_type": "execute_result"
    }
   ],
   "source": [
    "def split_qna(series: pd.Series):\n",
    "    split = series.str.strip(Q_SEG).str.split(A_SEG, expand=True)[[0, 1]]\n",
    "    # ^^ btw there are more than 1 answers per question for some entries\n",
    "    split.columns = [\"question\", \"answer\"]\n",
    "    split[\"full_text\"] = series # \"full_text\" will reflect this reality as well\n",
    "    return split\n",
    "\n",
    "c = split_qna(b)\n",
    "c"
   ]
  }
 ],
 "metadata": {
  "kernelspec": {
   "display_name": "snlp",
   "language": "python",
   "name": "python3"
  },
  "language_info": {
   "codemirror_mode": {
    "name": "ipython",
    "version": 3
   },
   "file_extension": ".py",
   "mimetype": "text/x-python",
   "name": "python",
   "nbconvert_exporter": "python",
   "pygments_lexer": "ipython3",
   "version": "3.12.9"
  }
 },
 "nbformat": 4,
 "nbformat_minor": 2
}
